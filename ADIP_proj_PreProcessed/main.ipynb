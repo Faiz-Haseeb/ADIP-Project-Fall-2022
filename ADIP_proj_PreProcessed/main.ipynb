{
 "cells": [
  {
   "cell_type": "markdown",
   "metadata": {},
   "source": [
    "Importing Required Modules"
   ]
  },
  {
   "cell_type": "code",
   "execution_count": 1,
   "metadata": {},
   "outputs": [],
   "source": [
    "# DO NOT EDIT\n",
    "import warnings\n",
    "warnings.filterwarnings('ignore')\n",
    "import os\n",
    "import zipfile\n",
    "import random\n",
    "import shutil\n",
    "import tensorflow as tf\n",
    "from keras.preprocessing.image import ImageDataGenerator\n",
    "from keras.optimizers import RMSprop\n",
    "from shutil import copyfile\n",
    "import matplotlib.pyplot as plt\n",
    "import cv2 as cv\n",
    "import numpy as np"
   ]
  },
  {
   "cell_type": "markdown",
   "metadata": {},
   "source": [
    "### Source: https://medium.com/@mr_haseeb/exercise-1-cats-vs-dogs-question-final-week-1-d37a798ce46b"
   ]
  },
  {
   "cell_type": "code",
   "execution_count": 2,
   "metadata": {},
   "outputs": [
    {
     "name": "stdout",
     "output_type": "stream",
     "text": [
      "There are 210 images of forged signatures.\n",
      "There are 210 images of real signatures.\n"
     ]
    }
   ],
   "source": [
    "source_path = 'C:/Users/Faiz Haseeb/Desktop/ADIP_Project_Complete/ADIP_proj_PreProcessed/temp/dataset1/'\n",
    "\n",
    "source_path_forge = os.path.join(source_path, 'forge')\n",
    "source_path_real = os.path.join(source_path, 'real')\n",
    "\n",
    "# os.listdir returns a list containing all files under the given path\n",
    "print(f\"There are {len(os.listdir(source_path_forge))} images of forged signatures.\")\n",
    "print(f\"There are {len(os.listdir(source_path_real))} images of real signatures.\")"
   ]
  },
  {
   "cell_type": "markdown",
   "metadata": {
    "slideshow": {
     "slide_type": "notes"
    }
   },
   "source": [
    "Creating Train and Test directories"
   ]
  },
  {
   "cell_type": "code",
   "execution_count": 3,
   "metadata": {},
   "outputs": [
    {
     "name": "stdout",
     "output_type": "stream",
     "text": [
      "You should not be seeing this since the upper directory is removed beforehand\n",
      "C:/Users/Faiz Haseeb/Desktop/ADIP_Project_Complete/ADIP_proj_PreProcessed/temp/forge-v-real\\testing\n",
      "C:/Users/Faiz Haseeb/Desktop/ADIP_Project_Complete/ADIP_proj_PreProcessed/temp/forge-v-real\\training\n",
      "C:/Users/Faiz Haseeb/Desktop/ADIP_Project_Complete/ADIP_proj_PreProcessed/temp/forge-v-real\\testing\\forge\n",
      "C:/Users/Faiz Haseeb/Desktop/ADIP_Project_Complete/ADIP_proj_PreProcessed/temp/forge-v-real\\testing\\real\n",
      "C:/Users/Faiz Haseeb/Desktop/ADIP_Project_Complete/ADIP_proj_PreProcessed/temp/forge-v-real\\training\\forge\n",
      "C:/Users/Faiz Haseeb/Desktop/ADIP_Project_Complete/ADIP_proj_PreProcessed/temp/forge-v-real\\training\\real\n"
     ]
    }
   ],
   "source": [
    "# Root directory Definition\n",
    "root_dir = 'C:/Users/Faiz Haseeb/Desktop/ADIP_Project_Complete/ADIP_proj_PreProcessed/temp/forge-v-real'\n",
    "\n",
    "# Empty directory to prevent FileExistsError is the function is run several times\n",
    "if os.path.exists(root_dir):\n",
    "    shutil.rmtree(root_dir)\n",
    "\n",
    "def create_train_test_dirs(root_path):\n",
    "    \"\"\"\n",
    "  Creates directories for the train and test sets\n",
    "  \n",
    "  Args:\n",
    "    root_path (string) - the base directory path to create subdirectories from\n",
    "  \n",
    "  Returns:\n",
    "    None\n",
    "  \"\"\"  \n",
    "    os.makedirs(root_path)\n",
    "    \n",
    "    training = os.path.join(root_path, 'training')\n",
    "    testing = os.path.join(root_path, 'testing')\n",
    "\n",
    "    os.makedirs(training)\n",
    "    os.makedirs(testing)\n",
    "    os.makedirs(os.path.join(training, 'forge'))\n",
    "    os.makedirs(os.path.join(training, 'real'))\n",
    "    os.makedirs(os.path.join(testing, 'forge'))\n",
    "    os.makedirs(os.path.join(testing, 'real'))\n",
    "\n",
    "    try:\n",
    "        create_train_test_dirs(root_dir)\n",
    "    except FileExistsError:\n",
    "        print(\"You should not be seeing this since the upper directory is removed beforehand\")\n",
    "\n",
    "create_train_test_dirs(root_dir)\n",
    "for rootdir, dirs, files in os.walk(root_dir):\n",
    "    for subdir in dirs:\n",
    "        print(os.path.join(rootdir, subdir))"
   ]
  },
  {
   "cell_type": "code",
   "execution_count": 4,
   "metadata": {},
   "outputs": [],
   "source": [
    "def split_data(SOURCE, TRAINING, TESTING, SPLIT_SIZE):\n",
    "    \"\"\"\n",
    "    Splits the data into train and test sets\n",
    "\n",
    "    Args:\n",
    "      SOURCE_DIR (string): directory path containing the images\n",
    "      TRAINING_DIR (string): directory path to be used for training\n",
    "      VALIDATION_DIR (string): directory path to be used for validation\n",
    "      SPLIT_SIZE (float): proportion of the dataset to be used for training\n",
    "      \n",
    "    Returns:\n",
    "      None\n",
    "    \"\"\"\n",
    "    lst = []\n",
    "    for i in os.listdir(SOURCE):\n",
    "      if os.path.getsize(os.path.join(SOURCE, i)) != 0:\n",
    "        lst.append(i)\n",
    "      else:\n",
    "        print(i, \"is zero length, so ignoring.\")\n",
    "\n",
    "    \n",
    "        \n",
    "    indices = random.sample(lst, len(lst))\n",
    "    indices_train = indices[0:int(SPLIT_SIZE * len(lst))]\n",
    "    indices_test = indices[int(SPLIT_SIZE * len(lst)):]\n",
    "    for i in range(len(indices_train)):\n",
    "      copyfile(os.path.join(SOURCE, indices_train[i]), os.path.join(os.path.join(SOURCE, TRAINING), indices_train[i]))\n",
    "    for i in range(len(indices_test)):\n",
    "      copyfile(os.path.join(SOURCE, indices_test[i]), os.path.join(os.path.join(SOURCE, TESTING), indices_test[i]))\n",
    "    \n",
    "    \n"
   ]
  },
  {
   "cell_type": "code",
   "execution_count": 5,
   "metadata": {},
   "outputs": [
    {
     "name": "stdout",
     "output_type": "stream",
     "text": [
      "\n",
      "\n",
      "There are 147 images of forge for training\n",
      "There are 147 images of real for training\n",
      "There are 63 images of forge for testing\n",
      "There are 63 images of real for testing\n"
     ]
    }
   ],
   "source": [
    "\n",
    "# Define paths\n",
    "forge_SOURCE_DIR = \"C:/Users/Faiz Haseeb/Desktop/ADIP_Project_Complete/ADIP_proj_PreProcessed/temp/dataset1/forge/\"\n",
    "real_SOURCE_DIR = \"C:/Users/Faiz Haseeb/Desktop/ADIP_Project_Complete/ADIP_proj_PreProcessed/temp/dataset1/real/\"\n",
    "\n",
    "TRAINING_DIR = \"C:/Users/Faiz Haseeb/Desktop/ADIP_Project_Complete/ADIP_proj_PreProcessed/temp/forge-v-real/training/\"\n",
    "TESTING_DIR = \"C:/Users/Faiz Haseeb/Desktop/ADIP_Project_Complete/ADIP_proj_PreProcessed/temp/forge-v-real/testing/\"\n",
    "\n",
    "TRAINING_forge_DIR = os.path.join(TRAINING_DIR, \"forge/\")\n",
    "TESTING_forge_DIR = os.path.join(TESTING_DIR, \"forge/\")\n",
    "\n",
    "TRAINING_real_DIR = os.path.join(TRAINING_DIR, \"real/\")\n",
    "TESTING_real_DIR = os.path.join(TESTING_DIR, \"real/\")\n",
    "\n",
    "# Empty directories in case you run this cell multiple times\n",
    "if len(os.listdir(TRAINING_forge_DIR)) > 0:\n",
    "  for file in os.scandir(TRAINING_forge_DIR):\n",
    "    os.remove(file.path)\n",
    "if len(os.listdir(TRAINING_real_DIR)) > 0:\n",
    "  for file in os.scandir(TRAINING_real_DIR):\n",
    "    os.remove(file.path)\n",
    "if len(os.listdir(TESTING_forge_DIR)) > 0:\n",
    "  for file in os.scandir(TESTING_forge_DIR):\n",
    "    os.remove(file.path)\n",
    "if len(os.listdir(TESTING_real_DIR)) > 0:\n",
    "  for file in os.scandir(TESTING_real_DIR):\n",
    "    os.remove(file.path)\n",
    "\n",
    "# Define proportion of images used for training\n",
    "split_size = .7\n",
    "\n",
    "# Run the function\n",
    "split_data(forge_SOURCE_DIR, TRAINING_forge_DIR, TESTING_forge_DIR, split_size)\n",
    "split_data(real_SOURCE_DIR, TRAINING_real_DIR, TESTING_real_DIR, split_size)\n",
    "\n",
    "# Applying filters, thresholding and edge detection to the testing and training images\n",
    "for i in range(len(os.listdir(TRAINING_forge_DIR))):\n",
    "\n",
    "  #getting the images path\n",
    "  image_name = os.listdir(TRAINING_forge_DIR)[i]\n",
    "  image_path = os.path.join(TRAINING_forge_DIR, image_name)\n",
    "\n",
    "  #reading the image\n",
    "  img = cv.imread(image_path)\n",
    "\n",
    "  # Applying filters, thresholding and edge detection\n",
    "  img = cv.blur(img, (5,5))\n",
    "  img = cv.medianBlur(img, 5)\n",
    "  # thresh, img = cv.threshold(img,127,255,cv.THRESH_BINARY)\n",
    "  img = cv.Canny(img, 100, 200)\n",
    "  \n",
    "  #saving the image (overwriting original)\n",
    "  cv.imwrite(image_path,img)\n",
    "\n",
    "\n",
    "for i in range(len(os.listdir(TRAINING_real_DIR))):\n",
    "\n",
    "  #getting the images path\n",
    "  image_name = os.listdir(TRAINING_forge_DIR)[i]\n",
    "  image_path = os.path.join(TRAINING_forge_DIR, image_name)\n",
    "\n",
    "  #reading the image\n",
    "  img = cv.imread(image_path)\n",
    "\n",
    "  # Applying filters, thresholding and edge detection\n",
    "  img = cv.blur(img, (5,5))\n",
    "  img = cv.medianBlur(img, 5)\n",
    "  # thresh, img = cv.threshold(img,127,255,cv.THRESH_BINARY)\n",
    "  img = cv.Canny(img, 100, 200)\n",
    "  \n",
    "  #saving the image (overwriting original)\n",
    "  cv.imwrite(image_path,img)\n",
    "\n",
    "for i in range(len(os.listdir(TESTING_forge_DIR))):\n",
    "\n",
    "  #getting the images path\n",
    "  image_name = os.listdir(TRAINING_forge_DIR)[i]\n",
    "  image_path = os.path.join(TRAINING_forge_DIR, image_name)\n",
    "\n",
    "  #reading the image\n",
    "  img = cv.imread(image_path)\n",
    "\n",
    "  # Applying filters, thresholding and edge detection\n",
    "  img = cv.blur(img, (5,5))\n",
    "  img = cv.medianBlur(img, 5)\n",
    "  # thresh, img = cv.threshold(img,127,255,cv.THRESH_BINARY)\n",
    "  img = cv.Canny(img, 100, 200)\n",
    "  \n",
    "  #saving the image (overwriting original)\n",
    "  cv.imwrite(image_path,img)\n",
    "\n",
    "for i in range(len(os.listdir(TESTING_real_DIR))):\n",
    "\n",
    "  #getting the images path\n",
    "  image_name = os.listdir(TRAINING_forge_DIR)[i]\n",
    "  image_path = os.path.join(TRAINING_forge_DIR, image_name)\n",
    "\n",
    "  #reading the image\n",
    "  img = cv.imread(image_path)\n",
    "\n",
    "  # Applying filters, thresholding and edge detection\n",
    "  img = cv.blur(img, (5,5))\n",
    "  img = cv.medianBlur(img, 5)\n",
    "  # thresh, img = cv.threshold(img,127,255,cv.THRESH_BINARY)\n",
    "  img = cv.Canny(img, 100, 200)\n",
    "  \n",
    "  #saving the image (overwriting original)\n",
    "  cv.imwrite(image_path,img)\n",
    "\n",
    "# Check that the number of images matches the expected output\n",
    "print(f\"\\n\\nThere are {len(os.listdir(TRAINING_forge_DIR))} images of forge for training\")\n",
    "# print(os.listdir(TRAINING_forge_DIR)[5])\n",
    "print(f\"There are {len(os.listdir(TRAINING_real_DIR))} images of real for training\")\n",
    "print(f\"There are {len(os.listdir(TESTING_forge_DIR))} images of forge for testing\")\n",
    "print(f\"There are {len(os.listdir(TESTING_real_DIR))} images of real for testing\")"
   ]
  },
  {
   "cell_type": "code",
   "execution_count": 6,
   "metadata": {},
   "outputs": [],
   "source": [
    "TRAINING_DIR = \"C:/Users/Faiz Haseeb/Desktop/ADIP_Project_Complete/ADIP_proj_PreProcessed/temp/forge-v-real/training/\"\n",
    "VALIDATION_DIR = \"C:/Users/Faiz Haseeb/Desktop/ADIP_Project_Complete/ADIP_proj_PreProcessed/temp/forge-v-real/testing/\"\n",
    "\n",
    "def train_val_generators(TRAINING_DIR, VALIDATION_DIR):\n",
    "  \"\"\"\n",
    "  Creates the training and validation data generators\n",
    "  \n",
    "  Args:\n",
    "    TRAINING_DIR (string): directory path containing the training images\n",
    "    VALIDATION_DIR (string): directory path containing the testing/validation images\n",
    "    \n",
    "  Returns:\n",
    "    train_generator, validation_generator - tuple containing the generators\n",
    "  \"\"\"\n",
    "\n",
    "  # Instantiate the ImageDataGenerator class (don't forget to set the arguments to augment the images)\n",
    "  train_datagen = ImageDataGenerator(rescale=1/255)\n",
    "\n",
    "  # Pass in the appropriate arguments to the flow_from_directory method\n",
    "  train_generator = train_datagen.flow_from_directory(directory=TRAINING_DIR,\n",
    "                                                      batch_size=10,\n",
    "                                                      class_mode='binary',\n",
    "                                                      target_size=(150, 150))\n",
    "\n",
    "  # Instantiate the ImageDataGenerator class (don't forget to set the rescale argument)\n",
    "  validation_datagen = ImageDataGenerator(rescale=1/255)\n",
    "\n",
    "  # Pass in the appropriate arguments to the flow_from_directory method\n",
    "  validation_generator = validation_datagen.flow_from_directory(directory=VALIDATION_DIR,\n",
    "                                                      batch_size=10,\n",
    "                                                      class_mode='binary',\n",
    "                                                      target_size=(150, 150))\n",
    "  \n",
    "  return train_generator, validation_generator"
   ]
  },
  {
   "cell_type": "code",
   "execution_count": 7,
   "metadata": {},
   "outputs": [
    {
     "name": "stdout",
     "output_type": "stream",
     "text": [
      "Found 294 images belonging to 2 classes.\n",
      "Found 126 images belonging to 2 classes.\n"
     ]
    }
   ],
   "source": [
    "train_generator, validation_generator = train_val_generators(TRAINING_DIR, TESTING_DIR)"
   ]
  },
  {
   "cell_type": "code",
   "execution_count": 8,
   "metadata": {},
   "outputs": [],
   "source": [
    "def create_model():\n",
    "\n",
    "\n",
    "  model = tf.keras.models.Sequential([ \n",
    "    tf.keras.layers.Conv2D(32, (20,20), activation='relu', input_shape=(150, 150, 3)),\n",
    "    tf.keras.layers.MaxPooling2D(2, 2),\n",
    "    # The second convolution\n",
    "    tf.keras.layers.Conv2D(64, (10,10), activation='relu'),\n",
    "    tf.keras.layers.MaxPooling2D(2,2),\n",
    "    # The third convolution\n",
    "    tf.keras.layers.Conv2D(128, (5,5), activation='relu'),\n",
    "    tf.keras.layers.MaxPooling2D(2,2),\n",
    "    tf.keras.layers.Conv2D(64, (3,3), activation='relu'),\n",
    "    tf.keras.layers.MaxPooling2D(2,2),\n",
    "    tf.keras.layers.Conv2D(32, (1,1), activation='relu'),\n",
    "    # Flatten the results to feed into a DNN\n",
    "    tf.keras.layers.Flatten(),\n",
    "    # 512 neuron hidden layer\n",
    "    tf.keras.layers.Dense(128, activation='relu'),\n",
    "    tf.keras.layers.Dense(64, activation='relu'),\n",
    "    tf.keras.layers.Dense(32, activation='relu'),\n",
    "    # Only 1 output neuron. \n",
    "    tf.keras.layers.Dense(1, activation='sigmoid')\n",
    "  ])\n",
    "\n",
    "  \n",
    "  model.compile(loss='binary_crossentropy',\n",
    "              optimizer=tf.keras.optimizers.SGD(learning_rate=0.001),\n",
    "              metrics=['accuracy']) \n",
    "\n",
    "  return model\n"
   ]
  },
  {
   "cell_type": "code",
   "execution_count": 9,
   "metadata": {},
   "outputs": [
    {
     "name": "stdout",
     "output_type": "stream",
     "text": [
      "Epoch 1/15\n",
      "30/30 [==============================] - 114s 4s/step - loss: 0.6467 - accuracy: 0.5340 - val_loss: 0.7124 - val_accuracy: 0.5000\n",
      "Epoch 2/15\n",
      "30/30 [==============================] - 121s 4s/step - loss: 0.5692 - accuracy: 0.5918 - val_loss: 0.8092 - val_accuracy: 0.5000\n",
      "Epoch 3/15\n",
      "30/30 [==============================] - 121s 4s/step - loss: 0.4721 - accuracy: 0.6224 - val_loss: 1.0608 - val_accuracy: 0.5000\n",
      "Epoch 4/15\n",
      "30/30 [==============================] - 112s 4s/step - loss: 0.3980 - accuracy: 0.8469 - val_loss: 1.3181 - val_accuracy: 0.5000\n",
      "Epoch 5/15\n",
      "30/30 [==============================] - 112s 4s/step - loss: 0.3487 - accuracy: 0.9932 - val_loss: 1.4490 - val_accuracy: 0.5000\n",
      "Epoch 6/15\n",
      "30/30 [==============================] - 111s 4s/step - loss: 0.3142 - accuracy: 1.0000 - val_loss: 1.8002 - val_accuracy: 0.5000\n",
      "Epoch 7/15\n",
      "30/30 [==============================] - 110s 4s/step - loss: 0.2848 - accuracy: 1.0000 - val_loss: 1.7937 - val_accuracy: 0.5000\n",
      "Epoch 8/15\n",
      "30/30 [==============================] - 111s 4s/step - loss: 0.2522 - accuracy: 1.0000 - val_loss: 1.8407 - val_accuracy: 0.5000\n",
      "Epoch 9/15\n",
      "30/30 [==============================] - 112s 4s/step - loss: 0.2157 - accuracy: 1.0000 - val_loss: 2.0290 - val_accuracy: 0.5000\n",
      "Epoch 10/15\n",
      "30/30 [==============================] - 112s 4s/step - loss: 0.1780 - accuracy: 1.0000 - val_loss: 2.3247 - val_accuracy: 0.5000\n",
      "Epoch 11/15\n",
      "30/30 [==============================] - 111s 4s/step - loss: 0.1414 - accuracy: 1.0000 - val_loss: 2.4983 - val_accuracy: 0.5000\n",
      "Epoch 12/15\n",
      "30/30 [==============================] - 111s 4s/step - loss: 0.1093 - accuracy: 1.0000 - val_loss: 2.2970 - val_accuracy: 0.5000\n",
      "Epoch 13/15\n",
      "30/30 [==============================] - 120s 4s/step - loss: 0.0829 - accuracy: 1.0000 - val_loss: 2.4160 - val_accuracy: 0.5000\n",
      "Epoch 14/15\n",
      "30/30 [==============================] - 111s 4s/step - loss: 0.0622 - accuracy: 1.0000 - val_loss: 2.7251 - val_accuracy: 0.5000\n",
      "Epoch 15/15\n",
      "30/30 [==============================] - 122s 4s/step - loss: 0.0477 - accuracy: 1.0000 - val_loss: 3.0178 - val_accuracy: 0.5000\n"
     ]
    }
   ],
   "source": [
    "# Get the untrained model\n",
    "model = create_model()\n",
    "\n",
    "# Train the model\n",
    "# Note that this may take some time.\n",
    "history = model.fit(train_generator,\n",
    "                    epochs=15,\n",
    "                    verbose=1,\n",
    "                    validation_data=validation_generator)"
   ]
  },
  {
   "cell_type": "code",
   "execution_count": 14,
   "metadata": {},
   "outputs": [
    {
     "data": {
      "image/png": "[encoded data removed]",
      "text/plain": [
       "<Figure size 640x480 with 1 Axes>"
      ]
     },
     "metadata": {},
     "output_type": "display_data"
    },
    {
     "name": "stdout",
     "output_type": "stream",
     "text": [
      "\n"
     ]
    },
    {
     "data": {
      "image/png": "[encoded data removed]",
      "text/plain": [
       "<Figure size 640x480 with 1 Axes>"
      ]
     },
     "metadata": {},
     "output_type": "display_data"
    }
   ],
   "source": [
    "#-----------------------------------------------------------\n",
    "# Retrieve a list of list results on training and test data\n",
    "# sets for each training epoch\n",
    "#-----------------------------------------------------------\n",
    "acc=history.history['accuracy']\n",
    "val_acc=history.history['val_accuracy']\n",
    "loss=history.history['loss']\n",
    "val_loss=history.history['val_loss']\n",
    "\n",
    "epochs=range(len(acc)) # Get number of epochs\n",
    "\n",
    "#------------------------------------------------\n",
    "# Plot training and validation accuracy per epoch\n",
    "#------------------------------------------------\n",
    "plt.plot(epochs, acc, 'r', label = \"Training Accuracy\")\n",
    "plt.plot(epochs, val_acc, 'b', label = \"Validation Accuracy\")\n",
    "plt.title('Training and validation accuracy')\n",
    "plt.ylabel(\"Percentage Accuracy\")\n",
    "plt.xlabel(\"Epochs\")\n",
    "plt.legend()\n",
    "plt.show()\n",
    "print(\"\")\n",
    "\n",
    "#------------------------------------------------\n",
    "# Plot training and validation loss per epoch\n",
    "#------------------------------------------------\n",
    "plt.plot(epochs, loss, 'r',label = \"Training Loss\")\n",
    "plt.plot(epochs, val_loss, 'b', label = \"Validation Loss\")\n",
    "plt.title('Training and validation loss')\n",
    "plt.ylabel(\"Percentage Loss\")\n",
    "plt.xlabel(\"Epochs\")\n",
    "plt.legend()\n",
    "plt.show()"
   ]
  }
 ],
 "metadata": {
  "kernelspec": {
   "display_name": "Python 3.8.9 64-bit",
   "language": "python",
   "name": "python3"
  },
  "language_info": {
   "codemirror_mode": {
    "name": "ipython",
    "version": 3
   },
   "file_extension": ".py",
   "mimetype": "text/x-python",
   "name": "python",
   "nbconvert_exporter": "python",
   "pygments_lexer": "ipython3",
   "version": "3.8.9"
  },
  "orig_nbformat": 4,
  "vscode": {
   "interpreter": {
    "hash": "570feb405e2e27c949193ac68f46852414290d515b0ba6e5d90d076ed2284471"
   }
  }
 },
 "nbformat": 4,
 "nbformat_minor": 2
}
